{
 "cells": [
  {
   "cell_type": "markdown",
   "id": "b34d015b",
   "metadata": {},
   "source": [
    "# Сравнение производительности алгоритма Борувки на GraphBLAS и Pregel+"
   ]
  },
  {
   "cell_type": "markdown",
   "id": "f9c8a17d",
   "metadata": {},
   "source": [
    "### Описание вычислительной машины\n",
    "\n",
    "- Процессор: 12th Gen Intel Core i7-12700H\n",
    "\n",
    "- 14 ядер (без гипертрединга)\n",
    "\n",
    "- RAM: 16 GB\n",
    "\n",
    "- Операционная система: Linux Mint 21.3"
   ]
  },
  {
   "cell_type": "markdown",
   "id": "ee705085",
   "metadata": {},
   "source": [
    "Используемое ПО:\n",
    "\n",
    "- GCC 11.4.0\n",
    "\n",
    "- openjdk 8\n",
    "\n",
    "- hadoop 2.6.1\n",
    "\n",
    "- MPICH 3.1"
   ]
  },
  {
   "cell_type": "markdown",
   "id": "371e5bfa",
   "metadata": {},
   "source": [
    "### Описание эксперемента"
   ]
  },
  {
   "cell_type": "markdown",
   "id": "c4c4577b",
   "metadata": {},
   "source": [
    "**Целью эксперимента** является сравнение средней работы реализации выбранного алгоритма.\n",
    "\n",
    "**Ход эксперимента:**\n",
    "- Сделать 30 запусков алгоритмов\n",
    "- Составить информацию о среднем и дисперсии\n",
    "- Построить доверительные интервалы\n",
    "- Провести анализ результатов\n",
    "\n",
    "**Гипотезы:**\n",
    "- Среднее время работы алгоритма Борувки на GraphBLAS будет меньше, чем на Pregel+, для данного набора графов\n",
    "- Pregel+ будет существенную часть времени тратить на передачу сообщений в ходе работы"
   ]
  },
  {
   "cell_type": "markdown",
   "id": "d167810a",
   "metadata": {},
   "source": [
    "## Импорты"
   ]
  },
  {
   "cell_type": "code",
   "execution_count": 2,
   "id": "dd38607b",
   "metadata": {},
   "outputs": [
    {
     "name": "stdout",
     "output_type": "stream",
     "text": [
      "Collecting lxml\n",
      "  Using cached lxml-5.4.0-cp312-cp312-manylinux_2_28_x86_64.whl.metadata (3.5 kB)\n",
      "Using cached lxml-5.4.0-cp312-cp312-manylinux_2_28_x86_64.whl (5.0 MB)\n",
      "Installing collected packages: lxml\n",
      "Successfully installed lxml-5.4.0\n",
      "Note: you may need to restart the kernel to use updated packages.\n",
      "Collecting requests\n",
      "  Using cached requests-2.32.3-py3-none-any.whl.metadata (4.6 kB)\n",
      "Collecting charset-normalizer<4,>=2 (from requests)\n",
      "  Using cached charset_normalizer-3.4.2-cp312-cp312-manylinux_2_17_x86_64.manylinux2014_x86_64.whl.metadata (35 kB)\n",
      "Collecting idna<4,>=2.5 (from requests)\n",
      "  Using cached idna-3.10-py3-none-any.whl.metadata (10 kB)\n",
      "Collecting urllib3<3,>=1.21.1 (from requests)\n",
      "  Using cached urllib3-2.4.0-py3-none-any.whl.metadata (6.5 kB)\n",
      "Collecting certifi>=2017.4.17 (from requests)\n",
      "  Using cached certifi-2025.4.26-py3-none-any.whl.metadata (2.5 kB)\n",
      "Using cached requests-2.32.3-py3-none-any.whl (64 kB)\n",
      "Using cached charset_normalizer-3.4.2-cp312-cp312-manylinux_2_17_x86_64.manylinux2014_x86_64.whl (148 kB)\n",
      "Using cached idna-3.10-py3-none-any.whl (70 kB)\n",
      "Using cached urllib3-2.4.0-py3-none-any.whl (128 kB)\n",
      "Using cached certifi-2025.4.26-py3-none-any.whl (159 kB)\n",
      "Installing collected packages: urllib3, idna, charset-normalizer, certifi, requests\n",
      "\u001b[2K   \u001b[38;2;114;156;31m━━━━━━━━━━━━━━━━━━━━━━━━━━━━━━━━━━━━━━━━\u001b[0m \u001b[32m5/5\u001b[0m [requests]\n",
      "\u001b[1A\u001b[2KSuccessfully installed certifi-2025.4.26 charset-normalizer-3.4.2 idna-3.10 requests-2.32.3 urllib3-2.4.0\n",
      "Note: you may need to restart the kernel to use updated packages.\n",
      "Collecting gdown\n",
      "  Using cached gdown-5.2.0-py3-none-any.whl.metadata (5.8 kB)\n",
      "Collecting beautifulsoup4 (from gdown)\n",
      "  Using cached beautifulsoup4-4.13.4-py3-none-any.whl.metadata (3.8 kB)\n",
      "Collecting filelock (from gdown)\n",
      "  Using cached filelock-3.18.0-py3-none-any.whl.metadata (2.9 kB)\n",
      "Requirement already satisfied: requests[socks] in ./.venv/lib/python3.12/site-packages (from gdown) (2.32.3)\n",
      "Collecting tqdm (from gdown)\n",
      "  Using cached tqdm-4.67.1-py3-none-any.whl.metadata (57 kB)\n",
      "Collecting soupsieve>1.2 (from beautifulsoup4->gdown)\n",
      "  Using cached soupsieve-2.7-py3-none-any.whl.metadata (4.6 kB)\n",
      "Collecting typing-extensions>=4.0.0 (from beautifulsoup4->gdown)\n",
      "  Using cached typing_extensions-4.13.2-py3-none-any.whl.metadata (3.0 kB)\n",
      "Requirement already satisfied: charset-normalizer<4,>=2 in ./.venv/lib/python3.12/site-packages (from requests[socks]->gdown) (3.4.2)\n",
      "Requirement already satisfied: idna<4,>=2.5 in ./.venv/lib/python3.12/site-packages (from requests[socks]->gdown) (3.10)\n",
      "Requirement already satisfied: urllib3<3,>=1.21.1 in ./.venv/lib/python3.12/site-packages (from requests[socks]->gdown) (2.4.0)\n",
      "Requirement already satisfied: certifi>=2017.4.17 in ./.venv/lib/python3.12/site-packages (from requests[socks]->gdown) (2025.4.26)\n",
      "Collecting PySocks!=1.5.7,>=1.5.6 (from requests[socks]->gdown)\n",
      "  Using cached PySocks-1.7.1-py3-none-any.whl.metadata (13 kB)\n",
      "Using cached gdown-5.2.0-py3-none-any.whl (18 kB)\n",
      "Using cached beautifulsoup4-4.13.4-py3-none-any.whl (187 kB)\n",
      "Using cached soupsieve-2.7-py3-none-any.whl (36 kB)\n",
      "Using cached typing_extensions-4.13.2-py3-none-any.whl (45 kB)\n",
      "Using cached filelock-3.18.0-py3-none-any.whl (16 kB)\n",
      "Using cached PySocks-1.7.1-py3-none-any.whl (16 kB)\n",
      "Using cached tqdm-4.67.1-py3-none-any.whl (78 kB)\n",
      "Installing collected packages: typing-extensions, tqdm, soupsieve, PySocks, filelock, beautifulsoup4, gdown\n",
      "\u001b[2K   \u001b[38;2;114;156;31m━━━━━━━━━━━━━━━━━━━━━━━━━━━━━━━━━━━━━━━━\u001b[0m \u001b[32m7/7\u001b[0m [gdown]m━━━━━━━━━━━\u001b[0m \u001b[32m5/7\u001b[0m [beautifulsoup4]\n",
      "\u001b[1A\u001b[2KSuccessfully installed PySocks-1.7.1 beautifulsoup4-4.13.4 filelock-3.18.0 gdown-5.2.0 soupsieve-2.7 tqdm-4.67.1 typing-extensions-4.13.2\n",
      "Note: you may need to restart the kernel to use updated packages.\n",
      "Collecting numpy\n",
      "  Using cached numpy-2.2.5-cp312-cp312-manylinux_2_17_x86_64.manylinux2014_x86_64.whl.metadata (62 kB)\n",
      "Using cached numpy-2.2.5-cp312-cp312-manylinux_2_17_x86_64.manylinux2014_x86_64.whl (16.1 MB)\n",
      "Installing collected packages: numpy\n",
      "Successfully installed numpy-2.2.5\n",
      "Note: you may need to restart the kernel to use updated packages.\n",
      "Collecting matplotlib\n",
      "  Using cached matplotlib-3.10.1-cp312-cp312-manylinux_2_17_x86_64.manylinux2014_x86_64.whl.metadata (11 kB)\n",
      "Collecting contourpy>=1.0.1 (from matplotlib)\n",
      "  Using cached contourpy-1.3.2-cp312-cp312-manylinux_2_17_x86_64.manylinux2014_x86_64.whl.metadata (5.5 kB)\n",
      "Collecting cycler>=0.10 (from matplotlib)\n",
      "  Using cached cycler-0.12.1-py3-none-any.whl.metadata (3.8 kB)\n",
      "Collecting fonttools>=4.22.0 (from matplotlib)\n",
      "  Using cached fonttools-4.57.0-cp312-cp312-manylinux_2_5_x86_64.manylinux1_x86_64.manylinux_2_17_x86_64.manylinux2014_x86_64.whl.metadata (102 kB)\n",
      "Collecting kiwisolver>=1.3.1 (from matplotlib)\n",
      "  Using cached kiwisolver-1.4.8-cp312-cp312-manylinux_2_17_x86_64.manylinux2014_x86_64.whl.metadata (6.2 kB)\n",
      "Requirement already satisfied: numpy>=1.23 in ./.venv/lib/python3.12/site-packages (from matplotlib) (2.2.5)\n",
      "Requirement already satisfied: packaging>=20.0 in ./.venv/lib/python3.12/site-packages (from matplotlib) (25.0)\n",
      "Collecting pillow>=8 (from matplotlib)\n",
      "  Using cached pillow-11.2.1-cp312-cp312-manylinux_2_28_x86_64.whl.metadata (8.9 kB)\n",
      "Collecting pyparsing>=2.3.1 (from matplotlib)\n",
      "  Using cached pyparsing-3.2.3-py3-none-any.whl.metadata (5.0 kB)\n",
      "Requirement already satisfied: python-dateutil>=2.7 in ./.venv/lib/python3.12/site-packages (from matplotlib) (2.9.0.post0)\n",
      "Requirement already satisfied: six>=1.5 in ./.venv/lib/python3.12/site-packages (from python-dateutil>=2.7->matplotlib) (1.17.0)\n",
      "Using cached matplotlib-3.10.1-cp312-cp312-manylinux_2_17_x86_64.manylinux2014_x86_64.whl (8.6 MB)\n",
      "Using cached contourpy-1.3.2-cp312-cp312-manylinux_2_17_x86_64.manylinux2014_x86_64.whl (323 kB)\n",
      "Using cached cycler-0.12.1-py3-none-any.whl (8.3 kB)\n",
      "Using cached fonttools-4.57.0-cp312-cp312-manylinux_2_5_x86_64.manylinux1_x86_64.manylinux_2_17_x86_64.manylinux2014_x86_64.whl (4.9 MB)\n",
      "Using cached kiwisolver-1.4.8-cp312-cp312-manylinux_2_17_x86_64.manylinux2014_x86_64.whl (1.5 MB)\n",
      "Using cached pillow-11.2.1-cp312-cp312-manylinux_2_28_x86_64.whl (4.6 MB)\n",
      "Using cached pyparsing-3.2.3-py3-none-any.whl (111 kB)\n",
      "Installing collected packages: pyparsing, pillow, kiwisolver, fonttools, cycler, contourpy, matplotlib\n",
      "\u001b[2K   \u001b[38;2;114;156;31m━━━━━━━━━━━━━━━━━━━━━━━━━━━━━━━━━━━━━━━━\u001b[0m \u001b[32m7/7\u001b[0m [matplotlib]\u001b[0m \u001b[32m6/7\u001b[0m [matplotlib]ow]\n",
      "\u001b[1A\u001b[2KSuccessfully installed contourpy-1.3.2 cycler-0.12.1 fonttools-4.57.0 kiwisolver-1.4.8 matplotlib-3.10.1 pillow-11.2.1 pyparsing-3.2.3\n",
      "Note: you may need to restart the kernel to use updated packages.\n",
      "Collecting scipy\n",
      "  Using cached scipy-1.15.2-cp312-cp312-manylinux_2_17_x86_64.manylinux2014_x86_64.whl.metadata (61 kB)\n",
      "Requirement already satisfied: numpy<2.5,>=1.23.5 in ./.venv/lib/python3.12/site-packages (from scipy) (2.2.5)\n",
      "Using cached scipy-1.15.2-cp312-cp312-manylinux_2_17_x86_64.manylinux2014_x86_64.whl (37.3 MB)\n",
      "Installing collected packages: scipy\n",
      "Successfully installed scipy-1.15.2\n",
      "Note: you may need to restart the kernel to use updated packages.\n"
     ]
    }
   ],
   "source": [
    "%pip install lxml\n",
    "%pip install requests\n",
    "%pip install gdown\n",
    "%pip install numpy\n",
    "%pip install matplotlib\n",
    "%pip install scipy\n",
    "\n",
    "import os\n",
    "import numpy as np\n",
    "import tarfile\n",
    "import subprocess\n",
    "import shutil\n",
    "import gzip\n",
    "import requests\n",
    "import time\n",
    "import matplotlib.pyplot as plt\n",
    "\n",
    "from scipy import stats\n",
    "from collections import defaultdict\n",
    "from lxml import etree"
   ]
  },
  {
   "cell_type": "code",
   "execution_count": 3,
   "id": "b5c95460",
   "metadata": {},
   "outputs": [],
   "source": [
    "experiment_abs_path = os.path.abspath(\".\")\n",
    "environment_abs_path = os.path.abspath(\"environment\")\n",
    "pregel_abs_path = os.path.abspath(\"pregel_mst\")\n",
    "data_abs_path = os.path.abspath(\"data\")\n",
    "blas_abs_path = os.path.abspath(\"blas_mst/\")"
   ]
  },
  {
   "cell_type": "markdown",
   "id": "e4018ffa",
   "metadata": {},
   "source": [
    "## Графы"
   ]
  },
  {
   "cell_type": "code",
   "execution_count": null,
   "id": "a0698743",
   "metadata": {},
   "outputs": [],
   "source": [
    "os.chdir(data_abs_path)\n",
    "\n",
    "!gdown 1jF_mofBBRULZh4rzKqZhhBRVuc2Pd8II\n",
    "with tarfile.open(\"map_graphs.tar.gz\", \"r:gz\") as tar:\n",
    "    tar.extractall()\n",
    "\n",
    "os.chdir(experiment_abs_path)"
   ]
  },
  {
   "cell_type": "markdown",
   "id": "a114fc9d",
   "metadata": {},
   "source": [
    "## Pregel+"
   ]
  },
  {
   "cell_type": "markdown",
   "id": "3d5f1820",
   "metadata": {},
   "source": [
    "#### Подготовка окружения"
   ]
  },
  {
   "cell_type": "code",
   "execution_count": null,
   "id": "2b75e82c",
   "metadata": {},
   "outputs": [],
   "source": [
    "me = subprocess.check_output(\"whoami\", shell=True, text=True).strip()\n",
    "\n",
    "# sudo password for file system, packages, etc. access.\n",
    "password = \"\"\n",
    "\n",
    "hdfs_path = \"/app/hdfsEXP\""
   ]
  },
  {
   "cell_type": "code",
   "execution_count": null,
   "id": "9824a2cf",
   "metadata": {},
   "outputs": [],
   "source": [
    "command = f\"echo {password} | sudo -S apt install openssh-server -y\"\n",
    "subprocess.run(command, shell=True, check=True)\n",
    "\n",
    "command = f\"echo {password} | sudo -S apt install ssh-askpass -y\"\n",
    "subprocess.run(command, shell=True, check=True)\n",
    "\n",
    "command = f\"echo {password} | sudo -S apt install mpich -y\"\n",
    "subprocess.run(command, shell=True, check=True)\n",
    "\n",
    "command = f\"echo {password} | sudo -S apt install g++ -y\"\n",
    "subprocess.run(command, shell=True, check=True)"
   ]
  },
  {
   "cell_type": "markdown",
   "id": "d19e1c71",
   "metadata": {},
   "source": [
    "SSH Конфигурация"
   ]
  },
  {
   "cell_type": "markdown",
   "id": "c6aef018",
   "metadata": {},
   "source": [
    "И Hadoop, и MPI требуют беспарольного SSH-подключения. Если у вас SSH уже настроен, можно пропустить этот шаг."
   ]
  },
  {
   "cell_type": "code",
   "execution_count": null,
   "id": "b28cf033",
   "metadata": {},
   "outputs": [],
   "source": [
    "\"\"\" !ssh-keygen -R localhost\n",
    "!ssh-keygen -t rsa -P '' -f ~/.ssh/id_rsa\n",
    "!cat ~/.ssh/id_rsa.pub >> ~/.ssh/authorized_keys\n",
    "!chmod 0600 ~/.ssh/authorized_keys \"\"\""
   ]
  },
  {
   "cell_type": "code",
   "execution_count": null,
   "id": "71e62f5f",
   "metadata": {},
   "outputs": [],
   "source": [
    "os.chdir(environment_abs_path)\n",
    "\n",
    "# hadoop\n",
    "!wget https://archive.apache.org/dist/hadoop/common/hadoop-2.6.1/hadoop-2.6.1.tar.gz\n",
    "with tarfile.open(\"hadoop-2.6.1.tar.gz\", \"r:gz\") as tar:\n",
    "    tar.extractall()\n",
    "\n",
    "# openjdk\n",
    "!wget https://github.com/adoptium/temurin8-binaries/releases/download/jdk8u392-b08/OpenJDK8U-jdk_x64_linux_hotspot_8u392b08.tar.gz\n",
    "with tarfile.open(\"OpenJDK8U-jdk_x64_linux_hotspot_8u392b08.tar.gz\", \"r:gz\") as tar:\n",
    "    tar.extractall()"
   ]
  },
  {
   "cell_type": "code",
   "execution_count": 6,
   "id": "46a5156c",
   "metadata": {},
   "outputs": [],
   "source": [
    "hadoop_abs_path = environment_abs_path + \"/hadoop-2.6.1\""
   ]
  },
  {
   "cell_type": "code",
   "execution_count": null,
   "id": "a3def071",
   "metadata": {},
   "outputs": [],
   "source": [
    "command1 = f\"echo {password} | sudo -S chown {me}:sudo ./hadoop-2.6.1\"\n",
    "subprocess.run(command1, shell=True, check=True)"
   ]
  },
  {
   "cell_type": "markdown",
   "id": "ec1ac39d",
   "metadata": {},
   "source": [
    "Обновим переменные окружения и сконфигурируем Hadoop"
   ]
  },
  {
   "cell_type": "code",
   "execution_count": 7,
   "id": "9b3fd303",
   "metadata": {},
   "outputs": [],
   "source": [
    "jav_home = os.path.abspath(\"jdk8u392-b08\")\n",
    "hadoo_home = os.path.abspath(\"hadoop-2.6.1\")\n",
    "\n",
    "with open(\"./.bashrc\", \"r\") as file:\n",
    "    content = file.read()\n",
    "\n",
    "content = content.replace(\"jav_home\", jav_home)\n",
    "content = content.replace(\"hadoo_home\", hadoo_home)\n",
    "\n",
    "with open(\"./.bashrc\", \"w\") as file:\n",
    "    file.write(content)"
   ]
  },
  {
   "cell_type": "code",
   "execution_count": null,
   "id": "9425b537",
   "metadata": {},
   "outputs": [],
   "source": [
    "subprocess.run([\"bash\", \"-c\", \"source ./.bashrc && env\"], check=True)"
   ]
  },
  {
   "cell_type": "code",
   "execution_count": null,
   "id": "0d1663db",
   "metadata": {},
   "outputs": [],
   "source": [
    "cmd = f\"echo {password} | sudo -S mkdir -p {hdfs_path}\"\n",
    "\n",
    "try:\n",
    "    subprocess.run(cmd, shell=True, check=True)\n",
    "    print(\"Directory created successfully\")\n",
    "except subprocess.CalledProcessError as e:\n",
    "    print(f\"Error creating directory: {e}\")\n",
    "\n",
    "command1 = f\"echo {password} | sudo -S chown {me}:sudo {hdfs_path}\"\n",
    "subprocess.run(command1, shell=True, check=True)\n",
    "\n",
    "command2 = f\"echo {password} | sudo -S chmod 755 {hdfs_path}\"\n",
    "subprocess.run(command2, shell=True, check=True)"
   ]
  },
  {
   "cell_type": "code",
   "execution_count": null,
   "id": "530330c0",
   "metadata": {},
   "outputs": [],
   "source": [
    "subprocess.run(\n",
    "    [\n",
    "        \"cp\",\n",
    "        \"hadoop-2.6.1/etc/hadoop/mapred-site.xml.template\",\n",
    "        \"hadoop-2.6.1/etc/hadoop/mapred-site.xml\",\n",
    "    ],\n",
    "    check=True,\n",
    ")"
   ]
  },
  {
   "cell_type": "code",
   "execution_count": null,
   "id": "c7d0c33b",
   "metadata": {},
   "outputs": [],
   "source": [
    "def update_hadoop_configs():\n",
    "    configs = {\n",
    "        \"hadoop-2.6.1/etc/hadoop/core-site.xml\": [\n",
    "            {\"name\": \"hadoop.tmp.dir\", \"value\": hdfs_path},\n",
    "            {\"name\": \"fs.default.name\", \"value\": \"hdfs://localhost:9000\"},\n",
    "        ],\n",
    "        \"hadoop-2.6.1/etc/hadoop/mapred-site.xml\": [\n",
    "            {\"name\": \"mapred.job.tracker\", \"value\": \"hdfs://localhost:9001\"}\n",
    "        ],\n",
    "        \"hadoop-2.6.1/etc/hadoop/hdfs-site.xml\": [\n",
    "            {\"name\": \"dfs.replication\", \"value\": \"3\"}\n",
    "        ],\n",
    "    }\n",
    "\n",
    "    parser = etree.XMLParser(remove_blank_text=True)\n",
    "\n",
    "    for file_path, properties in configs.items():\n",
    "        if not os.path.exists(file_path):\n",
    "            print(f\"File not found: {file_path}\")\n",
    "            continue\n",
    "\n",
    "        shutil.copy2(file_path, f\"{file_path}.bak\")\n",
    "\n",
    "        try:\n",
    "            tree = etree.parse(file_path, parser)\n",
    "            root = tree.getroot()\n",
    "\n",
    "            config = root.find(\"configuration\")\n",
    "            if config is None:\n",
    "                config = etree.SubElement(root, \"configuration\")\n",
    "\n",
    "            for prop in config.findall(\"property\"):\n",
    "                config.remove(prop)\n",
    "\n",
    "            for prop in properties:\n",
    "                new_prop = etree.SubElement(config, \"property\")\n",
    "                new_prop.text = \"\\n    \"\n",
    "\n",
    "                name = etree.SubElement(new_prop, \"name\")\n",
    "                name.text = prop[\"name\"]\n",
    "                name.tail = \"\\n    \"\n",
    "\n",
    "                value = etree.SubElement(new_prop, \"value\")\n",
    "                value.text = prop[\"value\"]\n",
    "                value.tail = \"\\n\"\n",
    "\n",
    "                new_prop.tail = \"\\n\\n\"\n",
    "\n",
    "            if len(config) > 0:\n",
    "                config[-1].tail = \"\\n\"\n",
    "\n",
    "            with open(file_path, \"wb\") as f:\n",
    "                f.write(b\"<?xml version='1.0' encoding='UTF-8'?>\\n\")\n",
    "                f.write(\n",
    "                    b'<?xml-stylesheet type=\"text/xsl\" href=\"configuration.xsl\"?>\\n'\n",
    "                )\n",
    "\n",
    "                for comment in root.xpath(\"//comment()\"):\n",
    "                    f.write(etree.tostring(comment, encoding=\"UTF-8\") + b\"\\n\")\n",
    "\n",
    "                f.write(\n",
    "                    b\"<!-- Put site-specific property overrides in this file. -->\\n\"\n",
    "                )\n",
    "                f.write(etree.tostring(config, encoding=\"UTF-8\", pretty_print=True))\n",
    "\n",
    "            print(f\"Successfully updated {file_path}\")\n",
    "\n",
    "        except Exception as e:\n",
    "            print(f\"Error processing {file_path}: {str(e)}\")\n",
    "            shutil.copy2(f\"{file_path}.bak\", file_path)\n",
    "\n",
    "\n",
    "update_hadoop_configs()"
   ]
  },
  {
   "cell_type": "code",
   "execution_count": null,
   "id": "c9774883",
   "metadata": {},
   "outputs": [],
   "source": [
    "hadoop_dir = \"hadoop-2.6.1\"\n",
    "target_dir = os.path.join(hadoop_dir, \"etc\", \"hadoop\")\n",
    "file_path = os.path.join(target_dir, \"masters\")\n",
    "\n",
    "os.makedirs(target_dir, exist_ok=True)\n",
    "\n",
    "with open(file_path, \"w\") as file:\n",
    "    file.write(\"localhost\")\n",
    "\n",
    "print(f\"File '{file_path}' created successfully with content 'localhost'\")"
   ]
  },
  {
   "cell_type": "code",
   "execution_count": 13,
   "id": "95e81d02",
   "metadata": {},
   "outputs": [],
   "source": [
    "java_home = os.path.abspath(\"jdk8u392-b08\")\n",
    "\n",
    "hadoop_dir = \"hadoop-2.6.1\"\n",
    "env_file = os.path.join(hadoop_dir, \"etc\", \"hadoop\", \"hadoop-env.sh\")\n",
    "\n",
    "with open(env_file, \"r\") as file:\n",
    "    lines = file.readlines()\n",
    "\n",
    "modified_lines = []\n",
    "for line in lines:\n",
    "    if line.strip().startswith(\"export JAVA_HOME=\") and \"${JAVA_HOME}\" in line:\n",
    "        line = f\"export JAVA_HOME={java_home}\\n\"\n",
    "    modified_lines.append(line)\n",
    "\n",
    "with open(env_file, \"w\") as file:\n",
    "    file.writelines(modified_lines)"
   ]
  },
  {
   "cell_type": "code",
   "execution_count": null,
   "id": "0cc119b0",
   "metadata": {},
   "outputs": [],
   "source": [
    "os.chdir(environment_abs_path)\n",
    "subprocess.run(\n",
    "    [\"bash\", \"-c\", \"hadoop-2.6.1/bin/hadoop namenode -format\"],\n",
    "    input=\"Y\\n\",\n",
    "    text=True,\n",
    "    check=True,\n",
    ")"
   ]
  },
  {
   "cell_type": "markdown",
   "id": "0cf3e479",
   "metadata": {},
   "source": [
    "Запустим Hadoop"
   ]
  },
  {
   "cell_type": "code",
   "execution_count": null,
   "id": "21762e9c",
   "metadata": {},
   "outputs": [],
   "source": [
    "subprocess.run([\"bash\", \"-c\", \"hadoop-2.6.1/sbin/start-dfs.sh\"], check=True)"
   ]
  },
  {
   "cell_type": "code",
   "execution_count": null,
   "id": "639fc1ef",
   "metadata": {},
   "outputs": [],
   "source": [
    "os.chdir(pregel_abs_path)\n",
    "subprocess.run(\"make\", shell=True, check=True)"
   ]
  },
  {
   "cell_type": "markdown",
   "id": "0c747d75",
   "metadata": {},
   "source": [
    "## SuiteSparse:GraphBLAS"
   ]
  },
  {
   "cell_type": "markdown",
   "id": "071295f1",
   "metadata": {},
   "source": [
    "#### Подготовка окружения"
   ]
  },
  {
   "cell_type": "code",
   "execution_count": 15,
   "id": "241d5d50",
   "metadata": {},
   "outputs": [],
   "source": [
    "os.chdir(environment_abs_path)\n",
    "os.chdir(\"../blas_mst\")"
   ]
  },
  {
   "cell_type": "code",
   "execution_count": null,
   "id": "dac36063",
   "metadata": {},
   "outputs": [],
   "source": [
    "def get_local_submodules():\n",
    "    try:\n",
    "        result = subprocess.run(\n",
    "            [\"git\", \"config\", \"--file\", \".gitmodules\", \"--get-regexp\", \"path\"],\n",
    "            capture_output=True, text=True, check=True\n",
    "        )\n",
    "        lines = result.stdout.splitlines()\n",
    "        submodules = [line.split()[1] for line in lines]\n",
    "        local_submodules = [sm for sm in submodules if \"/\" not in sm]\n",
    "        return local_submodules\n",
    "    except subprocess.CalledProcessError:\n",
    "        return []\n",
    "\n",
    "local_submodules = get_local_submodules()\n",
    "\n",
    "commands = [\n",
    "    *[f\"git submodule update --init {sm}\" for sm in local_submodules],\n",
    "    \"./scripts/get-graphblas.sh\",\n",
    "    \"export GRAPHBLAS_INCLUDE_DIR=`pwd`/graphblas-binaries/include\",\n",
    "    \"export GRAPHBLAS_LIBRARY=`pwd`/graphblas-binaries/lib/libgraphblas.so\",\n",
    "    \"mkdir -p build\",\n",
    "    \"cd build\",\n",
    "    \"cmake .. -DGRAPHBLAS_INCLUDE_DIR=${GRAPHBLAS_INCLUDE_DIR} -DGRAPHBLAS_LIBRARY=${GRAPHBLAS_LIBRARY}\",\n",
    "    \"make -j`nproc`\",\n",
    "    \"cd ..\",\n",
    "]\n",
    "\n",
    "for cmd in commands:\n",
    "    if cmd.startswith(\"cd \"):\n",
    "        dir_path = cmd[3:].strip()\n",
    "        os.chdir(dir_path)\n",
    "        print(f\"Changed directory to: {os.getcwd()}\")\n",
    "    elif cmd.startswith(\"export \"):\n",
    "        var_parts = cmd[7:].split(\"=\", 1)\n",
    "        if len(var_parts) == 2:\n",
    "            var_name, var_value = var_parts\n",
    "            var_value = subprocess.check_output(\n",
    "                f\"echo {var_value}\", shell=True, text=True\n",
    "            ).strip()\n",
    "            os.environ[var_name] = var_value\n",
    "            print(f\"Set environment variable: {var_name}={var_value}\")\n",
    "    else:\n",
    "        print(f\"Executing: {cmd}\")\n",
    "        try:\n",
    "            subprocess.run(cmd, shell=True, check=True)\n",
    "        except subprocess.CalledProcessError as e:\n",
    "            print(f\"Command failed: {cmd}\")\n",
    "            print(f\"Error: {e}\")\n",
    "            break"
   ]
  },
  {
   "cell_type": "code",
   "execution_count": 6,
   "id": "81a9074e",
   "metadata": {},
   "outputs": [],
   "source": [
    "os.chdir(environment_abs_path)"
   ]
  },
  {
   "cell_type": "markdown",
   "id": "73c763b4",
   "metadata": {},
   "source": [
    "## Замеры"
   ]
  },
  {
   "cell_type": "markdown",
   "id": "eb58dd37",
   "metadata": {},
   "source": [
    "Функция для подсчета веса получившевося дерева"
   ]
  },
  {
   "cell_type": "code",
   "execution_count": 4,
   "id": "55684398",
   "metadata": {},
   "outputs": [],
   "source": [
    "def calculate_total_weight_from_file(file_path):\n",
    "    total_weight = 0\n",
    "    with open(file_path, \"r\") as file:\n",
    "        for line in file:\n",
    "            parts = line.strip().split()\n",
    "            if len(parts) == 3:\n",
    "                try:\n",
    "                    weight = int(parts[2])\n",
    "                    total_weight += weight\n",
    "                except ValueError:\n",
    "                    print(f\"Skipping invalid weight in line: {line.strip()}\")\n",
    "    return total_weight"
   ]
  },
  {
   "cell_type": "code",
   "execution_count": 5,
   "id": "e5172ef0",
   "metadata": {},
   "outputs": [],
   "source": [
    "os.chdir(environment_abs_path)"
   ]
  },
  {
   "cell_type": "code",
   "execution_count": 6,
   "id": "0c9fd057",
   "metadata": {},
   "outputs": [],
   "source": [
    "os.mkdir(\"pregel_results\")"
   ]
  },
  {
   "cell_type": "code",
   "execution_count": 7,
   "id": "81b604ee",
   "metadata": {},
   "outputs": [],
   "source": [
    "os.mkdir(\"blas_results\")"
   ]
  },
  {
   "cell_type": "markdown",
   "id": "7a69bb56",
   "metadata": {},
   "source": [
    "Основные функции, запускающие алгоритм, считающие время работы и итоговый вес полученного дерева"
   ]
  },
  {
   "cell_type": "code",
   "execution_count": 8,
   "id": "e403b825",
   "metadata": {},
   "outputs": [],
   "source": [
    "def run_experiment_pregel_helper(time_file, weight_file, prefix):\n",
    "    with open(time_file, \"w\") as f:\n",
    "        f.write(\"\")\n",
    "    with open(weight_file, \"w\") as f:\n",
    "        f.write(\"\")\n",
    "\n",
    "    for i in range(1, 31):\n",
    "        print(f\"Running iteration {i}...\")\n",
    "\n",
    "        start_time = time.time()\n",
    "        subprocess.run([\"mpirun\", \"-np\", \"14\", pregel_abs_path + \"/run\"])\n",
    "        end_time = time.time()\n",
    "        elapsed_time = end_time - start_time\n",
    "\n",
    "        output_file = f\"{prefix}_launch_pregel_{i}\"\n",
    "        subprocess.run(\n",
    "            [\n",
    "                \"bash\",\n",
    "                \"-c\",\n",
    "                f\"../../hadoop-2.6.1/bin/hadoop fs -cat /toyOutput/* >> {output_file}\",\n",
    "            ],\n",
    "            check=True,\n",
    "        )\n",
    "\n",
    "        weight = calculate_total_weight_from_file(output_file)\n",
    "\n",
    "        with open(time_file, \"a\") as f:\n",
    "            f.write(f\"{elapsed_time}\\n\")\n",
    "        with open(weight_file, \"a\") as f:\n",
    "            f.write(f\"{weight}\\n\")\n",
    "\n",
    "        os.remove(output_file)\n",
    "\n",
    "        print(\n",
    "            f\"Finished iteration {i}, time: {elapsed_time:.2f} seconds, weight: {weight}\"\n",
    "        )\n",
    "\n",
    "\n",
    "def run_pregel_experiment(graph_file, graph_name, environment_abs_path):\n",
    "    os.chdir(environment_abs_path)\n",
    "\n",
    "    try:\n",
    "        subprocess.run(\n",
    "            [\"bash\", \"-c\", \"hadoop-2.6.1/bin/hadoop fs -rm -r /toyFolder\"], check=True\n",
    "        )\n",
    "    except Exception as _:\n",
    "        pass\n",
    "\n",
    "    subprocess.run(\n",
    "        [\n",
    "            \"bash\",\n",
    "            \"-c\",\n",
    "            f\"hadoop-2.6.1/bin/hadoop fs -put ../data/{graph_file} /toyFolder\",\n",
    "        ],\n",
    "        check=True,\n",
    "    )\n",
    "\n",
    "    results_dir = f\"pregel_results/{graph_name}_results\"\n",
    "    os.makedirs(results_dir, exist_ok=True)\n",
    "    os.chdir(results_dir)\n",
    "\n",
    "    time_file = f\"{graph_name}_time_pregel.txt\"\n",
    "    weight_file = f\"{graph_name}_weight_pregel.txt\"\n",
    "    run_experiment_pregel_helper(time_file, weight_file, graph_name)\n",
    "\n",
    "    os.chdir(environment_abs_path)\n",
    "    subprocess.run(\n",
    "        [\"bash\", \"-c\", \"hadoop-2.6.1/bin/hadoop fs -rm -r /toyFolder\"], check=True\n",
    "    )\n",
    "    os.chdir(environment_abs_path)"
   ]
  },
  {
   "cell_type": "code",
   "execution_count": 9,
   "id": "f8cf42fb",
   "metadata": {},
   "outputs": [],
   "source": [
    "def run_experiment_blas_helper(time_file, weight_file, prefix, graph_path):\n",
    "    with open(time_file, \"w\") as f:\n",
    "        f.write(\"\")\n",
    "    with open(weight_file, \"w\") as f:\n",
    "        f.write(\"\")\n",
    "\n",
    "    for i in range(1, 31):\n",
    "        print(f\"Running iteration {i}...\")\n",
    "\n",
    "        output_file = f\"{prefix}_launch_blas_{i}\"\n",
    "\n",
    "        command = [f\"{blas_abs_path}/build/boruvka\", f\"{data_abs_path}/{graph_path}\"]\n",
    "        print(data_abs_path)\n",
    "\n",
    "        with open(output_file, \"w\") as out_f:\n",
    "            start_time = time.time()\n",
    "            subprocess.run(command, stdout=out_f)\n",
    "            end_time = time.time()\n",
    "\n",
    "        elapsed_time = end_time - start_time\n",
    "        weight = calculate_total_weight_from_file(output_file)\n",
    "\n",
    "        with open(time_file, \"a\") as f:\n",
    "            f.write(f\"{elapsed_time}\\n\")\n",
    "        with open(weight_file, \"a\") as f:\n",
    "            f.write(f\"{weight}\\n\")\n",
    "\n",
    "        os.remove(output_file)\n",
    "\n",
    "        print(\n",
    "            f\"Finished iteration {i}, time: {elapsed_time:.2f} seconds, weight: {weight}\"\n",
    "        )\n",
    "\n",
    "\n",
    "def run_blas_experiment(graph_file, graph_name, environment_abs_path):\n",
    "    os.chdir(environment_abs_path)\n",
    "\n",
    "    results_dir = f\"blas_results/{graph_name}_results\"\n",
    "    os.makedirs(results_dir, exist_ok=True)\n",
    "    os.chdir(results_dir)\n",
    "\n",
    "    time_file = f\"{graph_name}_time_blas.txt\"\n",
    "    weight_file = f\"{graph_name}_weight_blas.txt\"\n",
    "\n",
    "    run_experiment_blas_helper(time_file, weight_file, graph_name, graph_file)\n",
    "\n",
    "    os.chdir(environment_abs_path)"
   ]
  },
  {
   "cell_type": "markdown",
   "id": "5ba8ff20",
   "metadata": {},
   "source": [
    "## New York City (Вершин: 264,346; Ребер: 733,846)"
   ]
  },
  {
   "cell_type": "code",
   "execution_count": null,
   "id": "2724182f",
   "metadata": {},
   "outputs": [],
   "source": [
    "run_pregel_experiment(\"Plus_USA-road-d.NY.gr\", \"NY\", environment_abs_path)"
   ]
  },
  {
   "cell_type": "code",
   "execution_count": null,
   "id": "61c0d421",
   "metadata": {},
   "outputs": [],
   "source": [
    "run_blas_experiment(\"Plus_USA-road-d.NY.gr\", \"NY\", environment_abs_path)"
   ]
  },
  {
   "cell_type": "code",
   "execution_count": 21,
   "id": "06b86016",
   "metadata": {},
   "outputs": [],
   "source": [
    "os.chdir(environment_abs_path)\n",
    "pregel_results_NY_abs_path = os.path.abspath(\"pregel_results/NY_results\")\n",
    "blas_results_NY_abs_path = os.path.abspath(\"pregel_results/NY_results\")"
   ]
  },
  {
   "cell_type": "markdown",
   "id": "ee2583f0",
   "metadata": {},
   "source": [
    "## San Francisco Bay Area (Вершин: 321,270; Ребер: 800,172)"
   ]
  },
  {
   "cell_type": "code",
   "execution_count": null,
   "id": "5cc00c73",
   "metadata": {},
   "outputs": [],
   "source": [
    "run_pregel_experiment(\"Plus_USA-road-d.BAY.gr\", \"BAY\", environment_abs_path)"
   ]
  },
  {
   "cell_type": "code",
   "execution_count": null,
   "id": "389f8426",
   "metadata": {},
   "outputs": [],
   "source": [
    "run_blas_experiment(\"Plus_USA-road-d.BAY.gr\", \"BAY\", environment_abs_path)"
   ]
  },
  {
   "cell_type": "code",
   "execution_count": 20,
   "id": "c97ee24e",
   "metadata": {},
   "outputs": [],
   "source": [
    "os.chdir(environment_abs_path)\n",
    "pregel_results_BAY_abs_path = os.path.abspath(\"pregel_results/BAY_results\")\n",
    "blas_results_BAY_abs_path = os.path.abspath(\"pregel_results/BAY_results\")"
   ]
  },
  {
   "cell_type": "markdown",
   "id": "014c3c56",
   "metadata": {},
   "source": [
    "## Colorado (Вершин: 435,666; Ребер: 1,057,066)"
   ]
  },
  {
   "cell_type": "code",
   "execution_count": null,
   "id": "fbefaca8",
   "metadata": {},
   "outputs": [],
   "source": [
    "run_pregel_experiment(\"Plus_USA-road-d.COL.gr\", \"COL\", environment_abs_path)"
   ]
  },
  {
   "cell_type": "code",
   "execution_count": null,
   "id": "04bbc46c",
   "metadata": {},
   "outputs": [],
   "source": [
    "run_blas_experiment(\"Plus_USA-road-d.COL.gr\", \"COL\", environment_abs_path)"
   ]
  },
  {
   "cell_type": "code",
   "execution_count": 19,
   "id": "c954143a",
   "metadata": {},
   "outputs": [],
   "source": [
    "os.chdir(environment_abs_path)\n",
    "pregel_results_COL_abs_path = os.path.abspath(\"pregel_results/COL_results\")\n",
    "blas_results_COL_abs_path = os.path.abspath(\"pregel_results/COL_results\")"
   ]
  },
  {
   "cell_type": "markdown",
   "id": "86de15d0",
   "metadata": {},
   "source": [
    "## Florida (Вершин: 1,070,376; Ребер: 2,712,798)"
   ]
  },
  {
   "cell_type": "code",
   "execution_count": null,
   "id": "4b56fb36",
   "metadata": {},
   "outputs": [],
   "source": [
    "run_pregel_experiment(\"Plus_USA-road-d.FLA.gr\", \"FLA\", environment_abs_path)"
   ]
  },
  {
   "cell_type": "code",
   "execution_count": null,
   "id": "2dc419b5",
   "metadata": {},
   "outputs": [],
   "source": [
    "run_blas_experiment(\"Plus_USA-road-d.FLA.gr\", \"FLA\", environment_abs_path)"
   ]
  },
  {
   "cell_type": "code",
   "execution_count": 18,
   "id": "7c0fe1ed",
   "metadata": {},
   "outputs": [],
   "source": [
    "os.chdir(environment_abs_path)\n",
    "pregel_results_FLA_abs_path = os.path.abspath(\"pregel_results/FLA_results\")\n",
    "blas_results_FLA_abs_path = os.path.abspath(\"pregel_results/FLA_results\")"
   ]
  },
  {
   "cell_type": "markdown",
   "id": "b2c287f1",
   "metadata": {},
   "source": [
    "## Northwest USA (Вершин: 1,207,945; Ребер: 2,840,208)"
   ]
  },
  {
   "cell_type": "code",
   "execution_count": null,
   "id": "cd5dae4f",
   "metadata": {},
   "outputs": [],
   "source": [
    "run_pregel_experiment(\"Plus_USA-road-d.NW.gr\", \"NW\", environment_abs_path)"
   ]
  },
  {
   "cell_type": "code",
   "execution_count": null,
   "id": "dab4f10a",
   "metadata": {},
   "outputs": [],
   "source": [
    "run_blas_experiment(\"Plus_USA-road-d.NW.gr\", \"NW\", environment_abs_path)"
   ]
  },
  {
   "cell_type": "code",
   "execution_count": 17,
   "id": "58765123",
   "metadata": {},
   "outputs": [],
   "source": [
    "os.chdir(environment_abs_path)\n",
    "pregel_results_NW_abs_path = os.path.abspath(\"pregel_results/NW_results\")\n",
    "blas_results_NW_abs_path = os.path.abspath(\"pregel_results/NW_results\")"
   ]
  },
  {
   "cell_type": "markdown",
   "id": "88b43cea",
   "metadata": {},
   "source": [
    "## Northeast USA (Вершин: 1,524,453; Ребер: 3,897,636)"
   ]
  },
  {
   "cell_type": "code",
   "execution_count": null,
   "id": "fd1216d5",
   "metadata": {},
   "outputs": [],
   "source": [
    "run_pregel_experiment(\"Plus_USA-road-d.NE.gr\", \"NE\", environment_abs_path)"
   ]
  },
  {
   "cell_type": "code",
   "execution_count": null,
   "id": "ec06c572",
   "metadata": {},
   "outputs": [],
   "source": [
    "run_blas_experiment(\"Plus_USA-road-d.NE.gr\", \"NE\", environment_abs_path)"
   ]
  },
  {
   "cell_type": "code",
   "execution_count": 16,
   "id": "b827b6e4",
   "metadata": {},
   "outputs": [],
   "source": [
    "os.chdir(environment_abs_path)\n",
    "pregel_results_NE_abs_path = os.path.abspath(\"pregel_results/NE_results\")\n",
    "blas_results_NE_abs_path = os.path.abspath(\"pregel_results/NE_results\")"
   ]
  },
  {
   "cell_type": "markdown",
   "id": "772c272b",
   "metadata": {},
   "source": [
    "## California and Nevada (Вершин: 1,890,815; Ребер: 4,657,742)"
   ]
  },
  {
   "cell_type": "code",
   "execution_count": null,
   "id": "168c62fa",
   "metadata": {},
   "outputs": [],
   "source": [
    "run_pregel_experiment(\"Plus_USA-road-d.CAL.gr\", \"CAL\", environment_abs_path)"
   ]
  },
  {
   "cell_type": "code",
   "execution_count": null,
   "id": "b92823d3",
   "metadata": {},
   "outputs": [],
   "source": [
    "run_blas_experiment(\"Plus_USA-road-d.CAL.gr\", \"CAL\", environment_abs_path)"
   ]
  },
  {
   "cell_type": "code",
   "execution_count": 15,
   "id": "94b5c949",
   "metadata": {},
   "outputs": [],
   "source": [
    "os.chdir(environment_abs_path)\n",
    "pregel_results_CAL_abs_path = os.path.abspath(\"pregel_results/CAL_results\")\n",
    "blas_results_CAL_abs_path = os.path.abspath(\"pregel_results/CAL_results\")"
   ]
  },
  {
   "cell_type": "markdown",
   "id": "02d9f57b",
   "metadata": {},
   "source": [
    "## Great Lakes (Вершин: 2,758,119; Ребер: 6,885,658)"
   ]
  },
  {
   "cell_type": "code",
   "execution_count": null,
   "id": "20ea9c2a",
   "metadata": {},
   "outputs": [],
   "source": [
    "run_pregel_experiment(\"Plus_USA-road-d.LKS.gr\", \"LKS\", environment_abs_path)"
   ]
  },
  {
   "cell_type": "code",
   "execution_count": null,
   "id": "9eebfdc4",
   "metadata": {},
   "outputs": [],
   "source": [
    "run_blas_experiment(\"Plus_USA-road-d.LKS.gr\", \"LKS\", environment_abs_path)"
   ]
  },
  {
   "cell_type": "code",
   "execution_count": 14,
   "id": "e7cf9339",
   "metadata": {},
   "outputs": [],
   "source": [
    "os.chdir(environment_abs_path)\n",
    "pregel_results_LKS_abs_path = os.path.abspath(\"pregel_results/LKS_results\")\n",
    "blas_results_LKS_abs_path = os.path.abspath(\"pregel_results/LKS_results\")"
   ]
  },
  {
   "cell_type": "markdown",
   "id": "2b63103b",
   "metadata": {},
   "source": [
    "## Eastern USA (Вершин: 3,598,623; Ребер: 8,778,114)"
   ]
  },
  {
   "cell_type": "code",
   "execution_count": null,
   "id": "68aabdbd",
   "metadata": {},
   "outputs": [],
   "source": [
    "run_pregel_experiment(\"Plus_USA-road-d.E.gr\", \"E\", environment_abs_path)"
   ]
  },
  {
   "cell_type": "code",
   "execution_count": null,
   "id": "f668ebd0",
   "metadata": {},
   "outputs": [],
   "source": [
    "run_blas_experiment(\"Plus_USA-road-d.E.gr\", \"E\", environment_abs_path)"
   ]
  },
  {
   "cell_type": "code",
   "execution_count": 13,
   "id": "a6eec429",
   "metadata": {},
   "outputs": [],
   "source": [
    "os.chdir(environment_abs_path)\n",
    "pregel_results_E_abs_path = os.path.abspath(\"pregel_results/E_results\")\n",
    "blas_results_E_abs_path = os.path.abspath(\"pregel_results/E_results\")"
   ]
  },
  {
   "cell_type": "markdown",
   "id": "ee86d137",
   "metadata": {},
   "source": [
    "## Western USA (Вершин: 6,262,104; Ребер: 15,248,146)"
   ]
  },
  {
   "cell_type": "code",
   "execution_count": null,
   "id": "4e8163b3",
   "metadata": {},
   "outputs": [],
   "source": [
    "run_pregel_experiment(\"Plus_USA-road-d.W.gr\", \"W\", environment_abs_path)"
   ]
  },
  {
   "cell_type": "code",
   "execution_count": null,
   "id": "3d99072a",
   "metadata": {},
   "outputs": [],
   "source": [
    "run_blas_experiment(\"Plus_USA-road-d.W.gr\", \"W\", environment_abs_path)"
   ]
  },
  {
   "cell_type": "code",
   "execution_count": 12,
   "id": "c7dad212",
   "metadata": {},
   "outputs": [],
   "source": [
    "os.chdir(environment_abs_path)\n",
    "pregel_results_W_abs_path = os.path.abspath(\"pregel_results/W_results\")\n",
    "blas_results_W_abs_path = os.path.abspath(\"pregel_results/W_results\")"
   ]
  },
  {
   "cell_type": "markdown",
   "id": "7fe61ca8",
   "metadata": {},
   "source": [
    "## Central USA (Вершин: 14,081,816; Ребер: 34,292,496)"
   ]
  },
  {
   "cell_type": "code",
   "execution_count": null,
   "id": "9c5acde2",
   "metadata": {},
   "outputs": [],
   "source": [
    "run_pregel_experiment(\"Plus_USA-road-d.CTR.gr\", \"CTR\", environment_abs_path)"
   ]
  },
  {
   "cell_type": "code",
   "execution_count": null,
   "id": "e4fb9673",
   "metadata": {},
   "outputs": [],
   "source": [
    "run_blas_experiment(\"Plus_USA-road-d.CTR.gr\", \"CTR\", environment_abs_path)"
   ]
  },
  {
   "cell_type": "code",
   "execution_count": 11,
   "id": "d5f5896e",
   "metadata": {},
   "outputs": [],
   "source": [
    "os.chdir(environment_abs_path)\n",
    "pregel_results_CTR_abs_path = os.path.abspath(\"pregel_results/CTR_results\")\n",
    "blas_results_CTR_abs_path = os.path.abspath(\"pregel_results/CTR_results\")"
   ]
  },
  {
   "cell_type": "markdown",
   "id": "3857c1f5",
   "metadata": {},
   "source": [
    "## Full USA (Вершин: 23,947,347; Ребер: 58,333,344)"
   ]
  },
  {
   "cell_type": "code",
   "execution_count": null,
   "id": "c7d4cab5",
   "metadata": {},
   "outputs": [],
   "source": [
    "run_pregel_experiment(\"Plus_USA-road-d.USA.gr\", \"USA\", environment_abs_path)"
   ]
  },
  {
   "cell_type": "code",
   "execution_count": null,
   "id": "42c297eb",
   "metadata": {},
   "outputs": [],
   "source": [
    "run_blas_experiment(\"Plus_USA-road-d.USA.gr\", \"USA\", environment_abs_path)"
   ]
  },
  {
   "cell_type": "code",
   "execution_count": 10,
   "id": "3bd2c662",
   "metadata": {},
   "outputs": [],
   "source": [
    "os.chdir(environment_abs_path)\n",
    "pregel_results_USA_abs_path = os.path.abspath(\"pregel_results/USA_results\")\n",
    "blas_results_USA_abs_path = os.path.abspath(\"pregel_results/USA_results\")"
   ]
  },
  {
   "cell_type": "markdown",
   "id": "70d59647",
   "metadata": {},
   "source": [
    "## Проверка результатов"
   ]
  },
  {
   "cell_type": "code",
   "execution_count": 63,
   "id": "ce5fab84",
   "metadata": {},
   "outputs": [],
   "source": [
    "os.chdir(environment_abs_path)\n",
    "pregel_results_abs_path = os.path.abspath(\"pregel_results/\")\n",
    "blas_results_abs_path = os.path.abspath(\"blas_results/\")"
   ]
  },
  {
   "cell_type": "markdown",
   "id": "23063f35",
   "metadata": {},
   "source": [
    "В ходе эксперемента, сравнивались две реализации алгоритма Борувки. Данный алгоритм является детерменированным, поэтому нам нужно убедиться, что обе реализации на одних и тех же графах выдавали один и тот же результат.\n",
    "\n",
    "Для этой цели, на каждом запуске помимо времени работы, также сохранялся вес найденого дерева.\n",
    "\n",
    "Посмотрим, что веса минимального остовного дерева совпадает:"
   ]
  },
  {
   "cell_type": "code",
   "execution_count": 65,
   "id": "3c214384",
   "metadata": {},
   "outputs": [],
   "source": [
    "PREFIXES = [\"NY\", \"BAY\", \"COL\", \"FLA\", \"NW\", \"NE\", \"CAL\", \"LKS\", \"E\", \"W\", \"CTR\", \"USA\"]"
   ]
  },
  {
   "cell_type": "code",
   "execution_count": 66,
   "id": "7df5047c",
   "metadata": {},
   "outputs": [
    {
     "name": "stdout",
     "output_type": "stream",
     "text": [
      "NY\n",
      "Launch number | Pregel weight | Blas weight\n",
      "-------------------------------------------\n",
      "           1 |     261159288 |   261159288\n",
      "           2 |     261159288 |   261159288\n",
      "           3 |     261159288 |   261159288\n",
      "           4 |     261159288 |   261159288\n",
      "           5 |     261159288 |   261159288\n",
      "           6 |     261159288 |   261159288\n",
      "           7 |     261159288 |   261159288\n",
      "           8 |     261159288 |   261159288\n",
      "           9 |     261159288 |   261159288\n",
      "          10 |     261159288 |   261159288\n",
      "          11 |     261159288 |   261159288\n",
      "          12 |     261159288 |   261159288\n",
      "          13 |     261159288 |   261159288\n",
      "          14 |     261159288 |   261159288\n",
      "          15 |     261159288 |   261159288\n",
      "          16 |     261159288 |   261159288\n",
      "          17 |     261159288 |   261159288\n",
      "          18 |     261159288 |   261159288\n",
      "          19 |     261159288 |   261159288\n",
      "          20 |     261159288 |   261159288\n",
      "          21 |     261159288 |   261159288\n",
      "          22 |     261159288 |   261159288\n",
      "          23 |     261159288 |   261159288\n",
      "          24 |     261159288 |   261159288\n",
      "          25 |     261159288 |   261159288\n",
      "          26 |     261159288 |   261159288\n",
      "          27 |     261159288 |   261159288\n",
      "          28 |     261159288 |   261159288\n",
      "          29 |     261159288 |   261159288\n",
      "          30 |     261159288 |   261159288\n",
      "\n",
      "All weights are matched\n",
      "\n",
      "-------------------------------------------\n",
      "\n",
      "BAY\n",
      "Launch number | Pregel weight | Blas weight\n",
      "-------------------------------------------\n",
      "           1 |     435798417 |   435798417\n",
      "           2 |     435798417 |   435798417\n",
      "           3 |     435798417 |   435798417\n",
      "           4 |     435798417 |   435798417\n",
      "           5 |     435798417 |   435798417\n",
      "           6 |     435798417 |   435798417\n",
      "           7 |     435798417 |   435798417\n",
      "           8 |     435798417 |   435798417\n",
      "           9 |     435798417 |   435798417\n",
      "          10 |     435798417 |   435798417\n",
      "          11 |     435798417 |   435798417\n",
      "          12 |     435798417 |   435798417\n",
      "          13 |     435798417 |   435798417\n",
      "          14 |     435798417 |   435798417\n",
      "          15 |     435798417 |   435798417\n",
      "          16 |     435798417 |   435798417\n",
      "          17 |     435798417 |   435798417\n",
      "          18 |     435798417 |   435798417\n",
      "          19 |     435798417 |   435798417\n",
      "          20 |     435798417 |   435798417\n",
      "          21 |     435798417 |   435798417\n",
      "          22 |     435798417 |   435798417\n",
      "          23 |     435798417 |   435798417\n",
      "          24 |     435798417 |   435798417\n",
      "          25 |     435798417 |   435798417\n",
      "          26 |     435798417 |   435798417\n",
      "          27 |     435798417 |   435798417\n",
      "          28 |     435798417 |   435798417\n",
      "          29 |     435798417 |   435798417\n",
      "          30 |     435798417 |   435798417\n",
      "\n",
      "All weights are matched\n",
      "\n",
      "-------------------------------------------\n",
      "\n",
      "COL\n",
      "Launch number | Pregel weight | Blas weight\n",
      "-------------------------------------------\n",
      "           1 |    1323900090 |  1323900090\n",
      "           2 |    1323900090 |  1323900090\n",
      "           3 |    1323900090 |  1323900090\n",
      "           4 |    1323900090 |  1323900090\n",
      "           5 |    1323900090 |  1323900090\n",
      "           6 |    1323900090 |  1323900090\n",
      "           7 |    1323900090 |  1323900090\n",
      "           8 |    1323900090 |  1323900090\n",
      "           9 |    1323900090 |  1323900090\n",
      "          10 |    1323900090 |  1323900090\n",
      "          11 |    1323900090 |  1323900090\n",
      "          12 |    1323900090 |  1323900090\n",
      "          13 |    1323900090 |  1323900090\n",
      "          14 |    1323900090 |  1323900090\n",
      "          15 |    1323900090 |  1323900090\n",
      "          16 |    1323900090 |  1323900090\n",
      "          17 |    1323900090 |  1323900090\n",
      "          18 |    1323900090 |  1323900090\n",
      "          19 |    1323900090 |  1323900090\n",
      "          20 |    1323900090 |  1323900090\n",
      "          21 |    1323900090 |  1323900090\n",
      "          22 |    1323900090 |  1323900090\n",
      "          23 |    1323900090 |  1323900090\n",
      "          24 |    1323900090 |  1323900090\n",
      "          25 |    1323900090 |  1323900090\n",
      "          26 |    1323900090 |  1323900090\n",
      "          27 |    1323900090 |  1323900090\n",
      "          28 |    1323900090 |  1323900090\n",
      "          29 |    1323900090 |  1323900090\n",
      "          30 |    1323900090 |  1323900090\n",
      "\n",
      "All weights are matched\n",
      "\n",
      "-------------------------------------------\n",
      "\n",
      "FLA\n",
      "Launch number | Pregel weight | Blas weight\n",
      "-------------------------------------------\n",
      "           1 |    1806814846 |  1806814846\n",
      "           2 |    1806814846 |  1806814846\n",
      "           3 |    1806814846 |  1806814846\n",
      "           4 |    1806814846 |  1806814846\n",
      "           5 |    1806814846 |  1806814846\n",
      "           6 |    1806814846 |  1806814846\n",
      "           7 |    1806814846 |  1806814846\n",
      "           8 |    1806814846 |  1806814846\n",
      "           9 |    1806814846 |  1806814846\n",
      "          10 |    1806814846 |  1806814846\n",
      "          11 |    1806814846 |  1806814846\n",
      "          12 |    1806814846 |  1806814846\n",
      "          13 |    1806814846 |  1806814846\n",
      "          14 |    1806814846 |  1806814846\n",
      "          15 |    1806814846 |  1806814846\n",
      "          16 |    1806814846 |  1806814846\n",
      "          17 |    1806814846 |  1806814846\n",
      "          18 |    1806814846 |  1806814846\n",
      "          19 |    1806814846 |  1806814846\n",
      "          20 |    1806814846 |  1806814846\n",
      "          21 |    1806814846 |  1806814846\n",
      "          22 |    1806814846 |  1806814846\n",
      "          23 |    1806814846 |  1806814846\n",
      "          24 |    1806814846 |  1806814846\n",
      "          25 |    1806814846 |  1806814846\n",
      "          26 |    1806814846 |  1806814846\n",
      "          27 |    1806814846 |  1806814846\n",
      "          28 |    1806814846 |  1806814846\n",
      "          29 |    1806814846 |  1806814846\n",
      "          30 |    1806814846 |  1806814846\n",
      "\n",
      "All weights are matched\n",
      "\n",
      "-------------------------------------------\n",
      "\n",
      "NW\n",
      "Launch number | Pregel weight | Blas weight\n",
      "-------------------------------------------\n",
      "           1 |    3522586810 |  3522586810\n",
      "           2 |    3522586810 |  3522586810\n",
      "           3 |    3522586810 |  3522586810\n",
      "           4 |    3522586810 |  3522586810\n",
      "           5 |    3522586810 |  3522586810\n",
      "           6 |    3522586810 |  3522586810\n",
      "           7 |    3522586810 |  3522586810\n",
      "           8 |    3522586810 |  3522586810\n",
      "           9 |    3522586810 |  3522586810\n",
      "          10 |    3522586810 |  3522586810\n",
      "          11 |    3522586810 |  3522586810\n",
      "          12 |    3522586810 |  3522586810\n",
      "          13 |    3522586810 |  3522586810\n",
      "          14 |    3522586810 |  3522586810\n",
      "          15 |    3522586810 |  3522586810\n",
      "          16 |    3522586810 |  3522586810\n",
      "          17 |    3522586810 |  3522586810\n",
      "          18 |    3522586810 |  3522586810\n",
      "          19 |    3522586810 |  3522586810\n",
      "          20 |    3522586810 |  3522586810\n",
      "          21 |    3522586810 |  3522586810\n",
      "          22 |    3522586810 |  3522586810\n",
      "          23 |    3522586810 |  3522586810\n",
      "          24 |    3522586810 |  3522586810\n",
      "          25 |    3522586810 |  3522586810\n",
      "          26 |    3522586810 |  3522586810\n",
      "          27 |    3522586810 |  3522586810\n",
      "          28 |    3522586810 |  3522586810\n",
      "          29 |    3522586810 |  3522586810\n",
      "          30 |    3522586810 |  3522586810\n",
      "\n",
      "All weights are matched\n",
      "\n",
      "-------------------------------------------\n",
      "\n",
      "NE\n",
      "Launch number | Pregel weight | Blas weight\n",
      "-------------------------------------------\n",
      "           1 |    2131122758 |  2131122758\n",
      "           2 |    2131122758 |  2131122758\n",
      "           3 |    2131122758 |  2131122758\n",
      "           4 |    2131122758 |  2131122758\n",
      "           5 |    2131122758 |  2131122758\n",
      "           6 |    2131122758 |  2131122758\n",
      "           7 |    2131122758 |  2131122758\n",
      "           8 |    2131122758 |  2131122758\n",
      "           9 |    2131122758 |  2131122758\n",
      "          10 |    2131122758 |  2131122758\n",
      "          11 |    2131122758 |  2131122758\n",
      "          12 |    2131122758 |  2131122758\n",
      "          13 |    2131122758 |  2131122758\n",
      "          14 |    2131122758 |  2131122758\n",
      "          15 |    2131122758 |  2131122758\n",
      "          16 |    2131122758 |  2131122758\n",
      "          17 |    2131122758 |  2131122758\n",
      "          18 |    2131122758 |  2131122758\n",
      "          19 |    2131122758 |  2131122758\n",
      "          20 |    2131122758 |  2131122758\n",
      "          21 |    2131122758 |  2131122758\n",
      "          22 |    2131122758 |  2131122758\n",
      "          23 |    2131122758 |  2131122758\n",
      "          24 |    2131122758 |  2131122758\n",
      "          25 |    2131122758 |  2131122758\n",
      "          26 |    2131122758 |  2131122758\n",
      "          27 |    2131122758 |  2131122758\n",
      "          28 |    2131122758 |  2131122758\n",
      "          29 |    2131122758 |  2131122758\n",
      "          30 |    2131122758 |  2131122758\n",
      "\n",
      "All weights are matched\n",
      "\n",
      "-------------------------------------------\n",
      "\n",
      "CAL\n",
      "Launch number | Pregel weight | Blas weight\n",
      "-------------------------------------------\n",
      "           1 |    4270584202 |  4270584202\n",
      "           2 |    4270584202 |  4270584202\n",
      "           3 |    4270584202 |  4270584202\n",
      "           4 |    4270584202 |  4270584202\n",
      "           5 |    4270584202 |  4270584202\n",
      "           6 |    4270584202 |  4270584202\n",
      "           7 |    4270584202 |  4270584202\n",
      "           8 |    4270584202 |  4270584202\n",
      "           9 |    4270584202 |  4270584202\n",
      "          10 |    4270584202 |  4270584202\n",
      "          11 |    4270584202 |  4270584202\n",
      "          12 |    4270584202 |  4270584202\n",
      "          13 |    4270584202 |  4270584202\n",
      "          14 |    4270584202 |  4270584202\n",
      "          15 |    4270584202 |  4270584202\n",
      "          16 |    4270584202 |  4270584202\n",
      "          17 |    4270584202 |  4270584202\n",
      "          18 |    4270584202 |  4270584202\n",
      "          19 |    4270584202 |  4270584202\n",
      "          20 |    4270584202 |  4270584202\n",
      "          21 |    4270584202 |  4270584202\n",
      "          22 |    4270584202 |  4270584202\n",
      "          23 |    4270584202 |  4270584202\n",
      "          24 |    4270584202 |  4270584202\n",
      "          25 |    4270584202 |  4270584202\n",
      "          26 |    4270584202 |  4270584202\n",
      "          27 |    4270584202 |  4270584202\n",
      "          28 |    4270584202 |  4270584202\n",
      "          29 |    4270584202 |  4270584202\n",
      "          30 |    4270584202 |  4270584202\n",
      "\n",
      "All weights are matched\n",
      "\n",
      "-------------------------------------------\n",
      "\n",
      "LKS\n",
      "Launch number | Pregel weight | Blas weight\n",
      "-------------------------------------------\n",
      "           1 |    6124343246 |  6124343246\n",
      "           2 |    6124343246 |  6124343246\n",
      "           3 |    6124343246 |  6124343246\n",
      "           4 |    6124343246 |  6124343246\n",
      "           5 |    6124343246 |  6124343246\n",
      "           6 |    6124343246 |  6124343246\n",
      "           7 |    6124343246 |  6124343246\n",
      "           8 |    6124343246 |  6124343246\n",
      "           9 |    6124343246 |  6124343246\n",
      "          10 |    6124343246 |  6124343246\n",
      "          11 |    6124343246 |  6124343246\n",
      "          12 |    6124343246 |  6124343246\n",
      "          13 |    6124343246 |  6124343246\n",
      "          14 |    6124343246 |  6124343246\n",
      "          15 |    6124343246 |  6124343246\n",
      "          16 |    6124343246 |  6124343246\n",
      "          17 |    6124343246 |  6124343246\n",
      "          18 |    6124343246 |  6124343246\n",
      "          19 |    6124343246 |  6124343246\n",
      "          20 |    6124343246 |  6124343246\n",
      "          21 |    6124343246 |  6124343246\n",
      "          22 |    6124343246 |  6124343246\n",
      "          23 |    6124343246 |  6124343246\n",
      "          24 |    6124343246 |  6124343246\n",
      "          25 |    6124343246 |  6124343246\n",
      "          26 |    6124343246 |  6124343246\n",
      "          27 |    6124343246 |  6124343246\n",
      "          28 |    6124343246 |  6124343246\n",
      "          29 |    6124343246 |  6124343246\n",
      "          30 |    6124343246 |  6124343246\n",
      "\n",
      "All weights are matched\n",
      "\n",
      "-------------------------------------------\n",
      "\n",
      "E\n",
      "Launch number | Pregel weight | Blas weight\n",
      "-------------------------------------------\n",
      "           1 |    6492121041 |  6492121041\n",
      "           2 |    6492121041 |  6492121041\n",
      "           3 |    6492121041 |  6492121041\n",
      "           4 |    6492121041 |  6492121041\n",
      "           5 |    6492121041 |  6492121041\n",
      "           6 |    6492121041 |  6492121041\n",
      "           7 |    6492121041 |  6492121041\n",
      "           8 |    6492121041 |  6492121041\n",
      "           9 |    6492121041 |  6492121041\n",
      "          10 |    6492121041 |  6492121041\n",
      "          11 |    6492121041 |  6492121041\n",
      "          12 |    6492121041 |  6492121041\n",
      "          13 |    6492121041 |  6492121041\n",
      "          14 |    6492121041 |  6492121041\n",
      "          15 |    6492121041 |  6492121041\n",
      "          16 |    6492121041 |  6492121041\n",
      "          17 |    6492121041 |  6492121041\n",
      "          18 |    6492121041 |  6492121041\n",
      "          19 |    6492121041 |  6492121041\n",
      "          20 |    6492121041 |  6492121041\n",
      "          21 |    6492121041 |  6492121041\n",
      "          22 |    6492121041 |  6492121041\n",
      "          23 |    6492121041 |  6492121041\n",
      "          24 |    6492121041 |  6492121041\n",
      "          25 |    6492121041 |  6492121041\n",
      "          26 |    6492121041 |  6492121041\n",
      "          27 |    6492121041 |  6492121041\n",
      "          28 |    6492121041 |  6492121041\n",
      "          29 |    6492121041 |  6492121041\n",
      "          30 |    6492121041 |  6492121041\n",
      "\n",
      "All weights are matched\n",
      "\n",
      "-------------------------------------------\n",
      "\n",
      "W\n",
      "Launch number | Pregel weight | Blas weight\n",
      "-------------------------------------------\n",
      "           1 |   19804938071 | 19804938071\n",
      "           2 |   19804938071 | 19804938071\n",
      "           3 |   19804938071 | 19804938071\n",
      "           4 |   19804938071 | 19804938071\n",
      "           5 |   19804938071 | 19804938071\n",
      "           6 |   19804938071 | 19804938071\n",
      "           7 |   19804938071 | 19804938071\n",
      "           8 |   19804938071 | 19804938071\n",
      "           9 |   19804938071 | 19804938071\n",
      "          10 |   19804938071 | 19804938071\n",
      "          11 |   19804938071 | 19804938071\n",
      "          12 |   19804938071 | 19804938071\n",
      "          13 |   19804938071 | 19804938071\n",
      "          14 |   19804938071 | 19804938071\n",
      "          15 |   19804938071 | 19804938071\n",
      "          16 |   19804938071 | 19804938071\n",
      "          17 |   19804938071 | 19804938071\n",
      "          18 |   19804938071 | 19804938071\n",
      "          19 |   19804938071 | 19804938071\n",
      "          20 |   19804938071 | 19804938071\n",
      "          21 |   19804938071 | 19804938071\n",
      "          22 |   19804938071 | 19804938071\n",
      "          23 |   19804938071 | 19804938071\n",
      "          24 |   19804938071 | 19804938071\n",
      "          25 |   19804938071 | 19804938071\n",
      "          26 |   19804938071 | 19804938071\n",
      "          27 |   19804938071 | 19804938071\n",
      "          28 |   19804938071 | 19804938071\n",
      "          29 |   19804938071 | 19804938071\n",
      "          30 |   19804938071 | 19804938071\n",
      "\n",
      "All weights are matched\n",
      "\n",
      "-------------------------------------------\n",
      "\n",
      "CTR\n",
      "Launch number | Pregel weight | Blas weight\n",
      "-------------------------------------------\n",
      "           1 |   33201942960 | 33201942960\n",
      "           2 |   33201942960 | 33201942960\n",
      "           3 |   33201942960 | 33201942960\n",
      "           4 |   33201942960 | 33201942960\n",
      "           5 |   33201942960 | 33201942960\n",
      "           6 |   33201942960 | 33201942960\n",
      "           7 |   33201942960 | 33201942960\n",
      "           8 |   33201942960 | 33201942960\n",
      "           9 |   33201942960 | 33201942960\n",
      "          10 |   33201942960 | 33201942960\n",
      "          11 |   33201942960 | 33201942960\n",
      "          12 |   33201942960 | 33201942960\n",
      "          13 |   33201942960 | 33201942960\n",
      "          14 |   33201942960 | 33201942960\n",
      "          15 |   33201942960 | 33201942960\n",
      "          16 |   33201942960 | 33201942960\n",
      "          17 |   33201942960 | 33201942960\n",
      "          18 |   33201942960 | 33201942960\n",
      "          19 |   33201942960 | 33201942960\n",
      "          20 |   33201942960 | 33201942960\n",
      "          21 |   33201942960 | 33201942960\n",
      "          22 |   33201942960 | 33201942960\n",
      "          23 |   33201942960 | 33201942960\n",
      "          24 |   33201942960 | 33201942960\n",
      "          25 |   33201942960 | 33201942960\n",
      "          26 |   33201942960 | 33201942960\n",
      "          27 |   33201942960 | 33201942960\n",
      "          28 |   33201942960 | 33201942960\n",
      "          29 |   33201942960 | 33201942960\n",
      "          30 |   33201942960 | 33201942960\n",
      "\n",
      "All weights are matched\n",
      "\n",
      "-------------------------------------------\n",
      "\n",
      "USA\n",
      "Launch number | Pregel weight | Blas weight\n",
      "-------------------------------------------\n",
      "           1 |   59505686128 | 59505686128\n",
      "           2 |   59505686128 | 59505686128\n",
      "           3 |   59505686128 | 59505686128\n",
      "           4 |   59505686128 | 59505686128\n",
      "           5 |   59505686128 | 59505686128\n",
      "           6 |   59505686128 | 59505686128\n",
      "           7 |   59505686128 | 59505686128\n",
      "           8 |   59505686128 | 59505686128\n",
      "           9 |   59505686128 | 59505686128\n",
      "          10 |   59505686128 | 59505686128\n",
      "          11 |   59505686128 | 59505686128\n",
      "          12 |   59505686128 | 59505686128\n",
      "          13 |   59505686128 | 59505686128\n",
      "          14 |   59505686128 | 59505686128\n",
      "          15 |   59505686128 | 59505686128\n",
      "          16 |   59505686128 | 59505686128\n",
      "          17 |   59505686128 | 59505686128\n",
      "          18 |   59505686128 | 59505686128\n",
      "          19 |   59505686128 | 59505686128\n",
      "          20 |   59505686128 | 59505686128\n",
      "          21 |   59505686128 | 59505686128\n",
      "          22 |   59505686128 | 59505686128\n",
      "          23 |   59505686128 | 59505686128\n",
      "          24 |   59505686128 | 59505686128\n",
      "          25 |   59505686128 | 59505686128\n",
      "          26 |   59505686128 | 59505686128\n",
      "          27 |   59505686128 | 59505686128\n",
      "          28 |   59505686128 | 59505686128\n",
      "          29 |   59505686128 | 59505686128\n",
      "          30 |   59505686128 | 59505686128\n",
      "\n",
      "All weights are matched\n",
      "\n",
      "-------------------------------------------\n",
      "\n"
     ]
    }
   ],
   "source": [
    "def compare_weights(pregel_results_base_path, blas_results_base_path):\n",
    "    for prefix in PREFIXES:\n",
    "        pregel_file = os.path.join(\n",
    "            pregel_results_base_path, f\"{prefix}_results\", f\"{prefix}_weight_pregel.txt\"\n",
    "        )\n",
    "        blas_file = os.path.join(\n",
    "            blas_results_base_path, f\"{prefix}_results\", f\"{prefix}_weight_blas.txt\"\n",
    "        )\n",
    "\n",
    "        try:\n",
    "            with open(pregel_file, \"r\") as f:\n",
    "                pregel_weights = [\n",
    "                    line.strip() for line in f.readlines() if line.strip()\n",
    "                ]\n",
    "\n",
    "            with open(blas_file, \"r\") as f:\n",
    "                blas_weights = [line.strip() for line in f.readlines() if line.strip()]\n",
    "        except FileNotFoundError as e:\n",
    "            print(f\"Error reading files for {prefix}: {e}\")\n",
    "            continue\n",
    "\n",
    "        if len(pregel_weights) != len(blas_weights):\n",
    "            print(\n",
    "                f\"{prefix}\\nWarning: Different number of entries ({len(pregel_weights)} vs {len(blas_weights)})\\n\"\n",
    "            )\n",
    "            continue\n",
    "\n",
    "        print(f\"{prefix}\")\n",
    "        print(\"Launch number | Pregel weight | Blas weight\")\n",
    "        print(\"-------------------------------------------\")\n",
    "\n",
    "        all_matched = True\n",
    "        for i in range(len(pregel_weights)):\n",
    "            pregel_weight = pregel_weights[i]\n",
    "            blas_weight = blas_weights[i]\n",
    "\n",
    "            print(f\"{i+1:>12} | {pregel_weight:>13} | {blas_weight:>11}\")\n",
    "\n",
    "            if pregel_weight != blas_weight:\n",
    "                all_matched = False\n",
    "\n",
    "        if all_matched:\n",
    "            print(\"\\nAll weights are matched\\n\")\n",
    "        else:\n",
    "            print(\"\\nDiscrepancies found in weights\\n\")\n",
    "        print(\"-------------------------------------------\\n\")\n",
    "\n",
    "\n",
    "compare_weights(pregel_results_abs_path, blas_results_abs_path)"
   ]
  },
  {
   "cell_type": "markdown",
   "id": "6e61e859",
   "metadata": {},
   "source": [
    "## Передача сообщений"
   ]
  },
  {
   "cell_type": "markdown",
   "id": "5c836449",
   "metadata": {},
   "source": [
    "Чтобы проверить гипотезу №2, воспользуемся mpiP &ndash; профилировщиком для программ, которые используют MPI. Для чистоты эксперемента проделаем зановы предыдущие запуски для Pregel+, но уже с профилировщиком."
   ]
  },
  {
   "cell_type": "markdown",
   "id": "bc4de923",
   "metadata": {},
   "source": [
    "Установим mpiP"
   ]
  },
  {
   "cell_type": "code",
   "execution_count": null,
   "id": "8578aebc",
   "metadata": {},
   "outputs": [],
   "source": [
    "os.chdir(environment_abs_path)\n",
    "\n",
    "clone_cmd = \"git clone https://github.com/LLNL/mpiP.git\"\n",
    "subprocess.run(clone_cmd, shell=True, check=True)\n",
    "\n",
    "os.chdir(\"mpiP\")\n",
    "subprocess.run(\"./configure\", shell=True, check=True)\n",
    "subprocess.run(\"make\", shell=True, check=True)\n",
    "\n",
    "os.chdir(environment_abs_path)"
   ]
  },
  {
   "cell_type": "markdown",
   "id": "368cbd0f",
   "metadata": {},
   "source": [
    "Пересоберем Pregel+ с профилировщиком"
   ]
  },
  {
   "cell_type": "code",
   "execution_count": null,
   "id": "949531b3",
   "metadata": {},
   "outputs": [],
   "source": [
    "os.chdir(pregel_abs_path)\n",
    "subprocess.run(\"make clean\", shell=True, check=True)\n",
    "subprocess.run(\"make BUILD_TYPE=mpip\", shell=True, check=True)"
   ]
  },
  {
   "cell_type": "code",
   "execution_count": null,
   "id": "f1e5d36a",
   "metadata": {},
   "outputs": [],
   "source": [
    "def run_profiled_pregel(graph_file, graph_name, environment_abs_path, pregel_abs_path):\n",
    "    os.chdir(environment_abs_path)\n",
    "\n",
    "    try:\n",
    "        subprocess.run(\n",
    "            [\"bash\", \"-c\", \"hadoop-2.6.1/bin/hadoop fs -rm -r /toyFolder\"], check=True\n",
    "        )\n",
    "    except Exception as _:\n",
    "        pass\n",
    "\n",
    "    subprocess.run(\n",
    "        [\n",
    "            \"bash\",\n",
    "            \"-c\",\n",
    "            f\"hadoop-2.6.1/bin/hadoop fs -put ../data/{graph_file} /toyFolder\",\n",
    "        ],\n",
    "        check=True,\n",
    "    )\n",
    "\n",
    "    results_dir = f\"pregel_results/{graph_name}_results\"\n",
    "    os.makedirs(results_dir, exist_ok=True)\n",
    "    os.chdir(results_dir)\n",
    "\n",
    "    for _ in range(1, 31):\n",
    "        subprocess.run([\"mpirun\", \"-np\", \"14\", pregel_abs_path + \"/run\"])\n",
    "\n",
    "    os.chdir(environment_abs_path)\n",
    "    subprocess.run(\n",
    "        [\"bash\", \"-c\", \"hadoop-2.6.1/bin/hadoop fs -rm -r /toyFolder\"], check=True\n",
    "    )\n",
    "    os.chdir(environment_abs_path)"
   ]
  },
  {
   "cell_type": "markdown",
   "id": "b62d2fb5",
   "metadata": {},
   "source": [
    "Запустим заново Pregel+, но теперь после каждого запуска, mpip будет создавать файл-репорт о времени работы программы, и время, потраченное на работу с сообщениями "
   ]
  },
  {
   "cell_type": "code",
   "execution_count": null,
   "id": "1daa00fc",
   "metadata": {},
   "outputs": [],
   "source": [
    "run_pregel_experiment(\"Plus_USA-road-d.NY.gr\", \"NY\", environment_abs_path)"
   ]
  },
  {
   "cell_type": "code",
   "execution_count": null,
   "id": "13cf4ffd",
   "metadata": {},
   "outputs": [],
   "source": [
    "run_pregel_experiment(\"Plus_USA-road-d.BAY.gr\", \"BAY\", environment_abs_path)"
   ]
  },
  {
   "cell_type": "code",
   "execution_count": null,
   "id": "77c911ef",
   "metadata": {},
   "outputs": [],
   "source": [
    "run_pregel_experiment(\"Plus_USA-road-d.COL.gr\", \"COL\", environment_abs_path)"
   ]
  },
  {
   "cell_type": "code",
   "execution_count": null,
   "id": "82d95365",
   "metadata": {},
   "outputs": [],
   "source": [
    "run_pregel_experiment(\"Plus_USA-road-d.FLA.gr\", \"FLA\", environment_abs_path)"
   ]
  },
  {
   "cell_type": "code",
   "execution_count": null,
   "id": "a6247529",
   "metadata": {},
   "outputs": [],
   "source": [
    "run_pregel_experiment(\"Plus_USA-road-d.NW.gr\", \"NW\", environment_abs_path)"
   ]
  },
  {
   "cell_type": "code",
   "execution_count": null,
   "id": "9ffe9b45",
   "metadata": {},
   "outputs": [],
   "source": [
    "run_pregel_experiment(\"Plus_USA-road-d.NE.gr\", \"NE\", environment_abs_path)"
   ]
  },
  {
   "cell_type": "code",
   "execution_count": null,
   "id": "d00ae64a",
   "metadata": {},
   "outputs": [],
   "source": [
    "run_pregel_experiment(\"Plus_USA-road-d.CAL.gr\", \"CAL\", environment_abs_path)"
   ]
  },
  {
   "cell_type": "code",
   "execution_count": null,
   "id": "6eeaa468",
   "metadata": {},
   "outputs": [],
   "source": [
    "run_pregel_experiment(\"Plus_USA-road-d.LKS.gr\", \"LKS\", environment_abs_path)"
   ]
  },
  {
   "cell_type": "code",
   "execution_count": null,
   "id": "56b3a329",
   "metadata": {},
   "outputs": [],
   "source": [
    "run_pregel_experiment(\"Plus_USA-road-d.E.gr\", \"E\", environment_abs_path)"
   ]
  },
  {
   "cell_type": "code",
   "execution_count": null,
   "id": "251201e1",
   "metadata": {},
   "outputs": [],
   "source": [
    "run_pregel_experiment(\"Plus_USA-road-d.W.gr\", \"W\", environment_abs_path)"
   ]
  },
  {
   "cell_type": "code",
   "execution_count": null,
   "id": "7cacf402",
   "metadata": {},
   "outputs": [],
   "source": [
    "run_pregel_experiment(\"Plus_USA-road-d.CTR.gr\", \"CTR\", environment_abs_path)"
   ]
  },
  {
   "cell_type": "code",
   "execution_count": null,
   "id": "3c80f826",
   "metadata": {},
   "outputs": [],
   "source": [
    "run_pregel_experiment(\"Plus_USA-road-d.USA.gr\", \"USA\", environment_abs_path)"
   ]
  },
  {
   "cell_type": "code",
   "execution_count": null,
   "id": "5089cb1a",
   "metadata": {},
   "outputs": [],
   "source": [
    "PREFIXES = [\"NY\", \"BAY\", \"COL\", \"FLA\", \"NW\", \"NE\", \"CAL\", \"LKS\", \"E\", \"W\", \"CTR\", \"USA\"]"
   ]
  },
  {
   "cell_type": "markdown",
   "id": "7b89a263",
   "metadata": {},
   "source": [
    "## Результаты и графики"
   ]
  },
  {
   "cell_type": "code",
   "execution_count": null,
   "id": "a3df69e1",
   "metadata": {},
   "outputs": [
    {
     "name": "stdout",
     "output_type": "stream",
     "text": [
      "\n",
      "================================================================================\n",
      "Сравнение времени выполнения: Pregel+ vs GraphBLAS\n",
      "Name       | Pregel+ (mean ± ci)  | GraphBLAS (mean ± ci)\n",
      "------------------------------------------------------------\n",
      "NY         | 4.3 ± 0.1            | 0.6 ± 0.0           \n",
      "BAY        | 3.9 ± 0.1            | 0.7 ± 0.0           \n",
      "COL        | 4.5 ± 0.1            | 0.8 ± 0.0           \n",
      "FLA        | 11.9 ± 0.2           | 3.4 ± 0.2           \n",
      "NW         | 12.9 ± 0.2           | 2.8 ± 0.2           \n",
      "NE         | 14.3 ± 0.2           | 4.4 ± 0.2           \n",
      "CAL        | 16.2 ± 0.2           | 4.5 ± 0.1           \n",
      "LKS        | 20.4 ± 0.3           | 5.6 ± 0.2           \n",
      "E          | 23.7 ± 0.6           | 8.0 ± 0.3           \n",
      "W          | 35.7 ± 0.9           | 14.7 ± 0.7          \n",
      "CTR        | 73.9 ± 2.3           | 28.7 ± 0.3          \n",
      "USA        | 120.0 ± 0.2          | 49.0 ± 0.7          \n"
     ]
    },
    {
     "data": {
      "image/png": "[encoded data removed]",
      "text/plain": [
       "<Figure size 1400x800 with 1 Axes>"
      ]
     },
     "metadata": {},
     "output_type": "display_data"
    }
   ],
   "source": [
    "def plot_comparison(results):\n",
    "    plt.figure(figsize=(14, 8))\n",
    "\n",
    "    x = np.arange(len(results[\"prefix\"]))\n",
    "    width = 0.35\n",
    "\n",
    "    pregel_bars = plt.bar(\n",
    "        x - width / 2,\n",
    "        results[\"pregel_mean\"],\n",
    "        width,\n",
    "        yerr=results[\"pregel_ci\"],\n",
    "        label=\"Pregel+\",\n",
    "        color=\"skyblue\",\n",
    "        alpha=0.7,\n",
    "        capsize=5,\n",
    "    )\n",
    "\n",
    "    blas_bars = plt.bar(\n",
    "        x + width / 2,\n",
    "        results[\"blas_mean\"],\n",
    "        width,\n",
    "        yerr=results[\"blas_ci\"],\n",
    "        label=\"GraphBLAS\",\n",
    "        color=\"salmon\",\n",
    "        alpha=0.7,\n",
    "        capsize=5,\n",
    "    )\n",
    "\n",
    "    plt.xlabel(\"Граф\", fontsize=12)\n",
    "    plt.ylabel(\"Среднее время выполнения (сек)\", fontsize=12)\n",
    "    plt.title(\"Сравнение времени выполнения: Pregel+ vs GraphBLAS\", fontsize=14)\n",
    "    plt.xticks(x, results[\"prefix\"], rotation=45, ha=\"right\")\n",
    "\n",
    "    for bar in pregel_bars:\n",
    "        height = bar.get_height()\n",
    "        plt.text(\n",
    "            bar.get_x() + bar.get_width() / 2.0,\n",
    "            height,\n",
    "            f\"{height:.1f}\",\n",
    "            ha=\"center\",\n",
    "            va=\"bottom\",\n",
    "            fontsize=10,\n",
    "        )\n",
    "\n",
    "    for bar in blas_bars:\n",
    "        height = bar.get_height()\n",
    "        plt.text(\n",
    "            bar.get_x() + bar.get_width() / 2.0,\n",
    "            height,\n",
    "            f\"{height:.1f}\",\n",
    "            ha=\"center\",\n",
    "            va=\"bottom\",\n",
    "            fontsize=10,\n",
    "        )\n",
    "\n",
    "    if (\n",
    "        max(results[\"pregel_mean\"] + results[\"blas_mean\"])\n",
    "        / min(results[\"pregel_mean\"] + results[\"blas_mean\"])\n",
    "        > 100\n",
    "    ):\n",
    "        plt.yscale(\"log\")\n",
    "        plt.ylabel(\"Время выполнения (log scale)\")\n",
    "\n",
    "    plt.grid(True, axis=\"y\", linestyle=\"--\", alpha=0.7)\n",
    "    plt.legend(fontsize=12)\n",
    "    plt.tight_layout()\n",
    "    plt.show()\n",
    "\n",
    "\n",
    "def analyze_performance(\n",
    "    pregel_results_base_path, blas_results_base_path, confidence=0.99\n",
    "):\n",
    "    results = {\n",
    "        \"prefix\": [],\n",
    "        \"pregel_mean\": [],\n",
    "        \"blas_mean\": [],\n",
    "        \"pregel_ci\": [],\n",
    "        \"blas_ci\": [],\n",
    "    }\n",
    "\n",
    "    for prefix in PREFIXES:\n",
    "        pregel_time_file = os.path.join(\n",
    "            pregel_results_base_path, f\"{prefix}_results\", f\"{prefix}_time_pregel.txt\"\n",
    "        )\n",
    "        blas_time_file = os.path.join(\n",
    "            blas_results_base_path, f\"{prefix}_results\", f\"{prefix}_time_blas.txt\"\n",
    "        )\n",
    "\n",
    "        try:\n",
    "            with open(pregel_time_file, \"r\") as f:\n",
    "                pregel_times = np.array(\n",
    "                    [float(line.strip()) for line in f.readlines() if line.strip()]\n",
    "                )\n",
    "\n",
    "            with open(blas_time_file, \"r\") as f:\n",
    "                blas_times = np.array(\n",
    "                    [float(line.strip()) for line in f.readlines() if line.strip()]\n",
    "                )\n",
    "\n",
    "        except FileNotFoundError as e:\n",
    "            print(f\"Ошибка при чтении файлов для префикса {prefix}: {e}\")\n",
    "            continue\n",
    "\n",
    "        pregel_mean = round(np.mean(pregel_times), 1)\n",
    "        blas_mean = round(np.mean(blas_times), 1)\n",
    "        pregel_std = np.std(pregel_times, ddof=1)\n",
    "        blas_std = np.std(blas_times, ddof=1)\n",
    "\n",
    "        n = len(pregel_times)\n",
    "        pregel_se = pregel_std / np.sqrt(n)\n",
    "        blas_se = blas_std / np.sqrt(n)\n",
    "\n",
    "        t_value = stats.t.ppf((1 + confidence) / 2, n - 1)\n",
    "\n",
    "        pregel_ci = round(t_value * pregel_se, 1)\n",
    "        blas_ci = round(t_value * blas_se, 1)\n",
    "\n",
    "        results[\"prefix\"].append(prefix)\n",
    "        results[\"pregel_mean\"].append(pregel_mean)\n",
    "        results[\"blas_mean\"].append(blas_mean)\n",
    "        results[\"pregel_ci\"].append(pregel_ci)\n",
    "        results[\"blas_ci\"].append(blas_ci)\n",
    "\n",
    "    print(\"\\n\" + \"=\" * 80)\n",
    "    print(\"Сравнение времени выполнения: Pregel+ vs GraphBLAS\")\n",
    "    print(\n",
    "        \"{:<10} | {:<20} | {:<20}\".format(\n",
    "            \"Name\", \"Pregel+ (mean ± ci)\", \"GraphBLAS (mean ± ci)\"\n",
    "        )\n",
    "    )\n",
    "    print(\"-\" * 60)\n",
    "    for i in range(len(results[\"prefix\"])):\n",
    "        pregel_str = f\"{results['pregel_mean'][i]:.1f} ± {results['pregel_ci'][i]:.1f}\"\n",
    "        blas_str = f\"{results['blas_mean'][i]:.1f} ± {results['blas_ci'][i]:.1f}\"\n",
    "        print(\n",
    "            \"{:<10} | {:<20} | {:<20}\".format(\n",
    "                results[\"prefix\"][i], pregel_str, blas_str\n",
    "            )\n",
    "        )\n",
    "\n",
    "    plot_comparison(results)\n",
    "\n",
    "\n",
    "analyze_performance(pregel_results_abs_path, blas_results_abs_path, confidence=0.95)"
   ]
  },
  {
   "cell_type": "code",
   "execution_count": 78,
   "id": "28bac931",
   "metadata": {},
   "outputs": [
    {
     "name": "stdout",
     "output_type": "stream",
     "text": [
      "\n",
      "================================================================================\n",
      "Процент времени, потраченного на обмен сообщениями в Pregel+\n",
      "Name       | MPI% (mean ± ci)    \n",
      "------------------------------------------------------------\n",
      "NY         | 48.5 ± 0.4          \n",
      "BAY        | 49.5 ± 0.4          \n",
      "COL        | 50.1 ± 0.4          \n",
      "FLA        | 54.5 ± 0.4          \n",
      "NW         | 55.6 ± 0.4          \n",
      "NE         | 56.7 ± 0.5          \n",
      "CAL        | 58.2 ± 0.5          \n",
      "LKS        | 60.4 ± 0.5          \n",
      "E          | 60.6 ± 0.7          \n",
      "W          | 62.4 ± 0.8          \n",
      "CTR        | 63.8 ± 0.8          \n",
      "USA        | 63.5 ± 0.8          \n"
     ]
    },
    {
     "data": {
      "image/png": "[encoded data removed]",
      "text/plain": [
       "<Figure size 1400x800 with 1 Axes>"
      ]
     },
     "metadata": {},
     "output_type": "display_data"
    }
   ],
   "source": [
    "def analyze_mpi_performance(pregel_results_base_path, confidence=0.95):\n",
    "    results = {\n",
    "        \"prefix\": [],\n",
    "        \"mpi_percent_mean\": [],\n",
    "        \"mpi_percent_ci\": [],\n",
    "    }\n",
    "\n",
    "    for prefix in PREFIXES:\n",
    "        mpi_percentages = []\n",
    "        prefix_dir = os.path.join(pregel_results_base_path, f\"{prefix}_results\")\n",
    "        try:\n",
    "            run_files = [f for f in os.listdir(prefix_dir) if f.startswith(\"run.14.\")]\n",
    "        except FileNotFoundError:\n",
    "            print(f\"Warning: Directory not found for prefix {prefix}\")\n",
    "            continue\n",
    "\n",
    "        if not run_files:\n",
    "            print(f\"Warning: No run.14.* files found for prefix {prefix}\")\n",
    "            continue\n",
    "\n",
    "        for run_file in run_files:\n",
    "            run_file_path = os.path.join(prefix_dir, run_file)\n",
    "\n",
    "            try:\n",
    "                try:\n",
    "                    with open(run_file_path, \"r\", encoding=\"utf-8\") as f:\n",
    "                        content = f.read()\n",
    "                except UnicodeDecodeError:\n",
    "                    with open(run_file_path, \"r\", encoding=\"latin-1\") as f:\n",
    "                        content = f.read()\n",
    "\n",
    "                for line in content.split(\"\\n\"):\n",
    "                    if line.strip().startswith(\"*\"):\n",
    "                        parts = line.split()\n",
    "                        if len(parts) >= 4:\n",
    "                            mpi_percent = float(parts[3].replace(\",\", \".\"))\n",
    "                            mpi_percentages.append(mpi_percent)\n",
    "                        break\n",
    "            except Exception as e:\n",
    "                print(f\"Error processing file {run_file_path}: {str(e)}\")\n",
    "                continue\n",
    "\n",
    "        if not mpi_percentages:\n",
    "            print(f\"Warning: No valid MPI data found for prefix {prefix}\")\n",
    "            continue\n",
    "\n",
    "        mpi_percentages = np.array(mpi_percentages)\n",
    "        mean = round(np.mean(mpi_percentages), 1)\n",
    "        std = np.std(mpi_percentages, ddof=1)\n",
    "        n = len(mpi_percentages)\n",
    "        se = std / np.sqrt(n)\n",
    "        t_value = stats.t.ppf((1 + confidence) / 2, n - 1)\n",
    "        ci = round(t_value * se, 1)\n",
    "\n",
    "        results[\"prefix\"].append(prefix)\n",
    "        results[\"mpi_percent_mean\"].append(mean)\n",
    "        results[\"mpi_percent_ci\"].append(ci)\n",
    "\n",
    "    print(\"\\n\" + \"=\" * 80)\n",
    "    print(\"Процент времени, потраченного на обмен сообщениями в Pregel+\")\n",
    "    print(\"{:<10} | {:<20}\".format(\"Name\", \"MPI% (mean ± ci)\"))\n",
    "    print(\"-\" * 60)\n",
    "    for i in range(len(results[\"prefix\"])):\n",
    "        print(\n",
    "            \"{:<10} | {:<20}\".format(\n",
    "                results[\"prefix\"][i],\n",
    "                f\"{results['mpi_percent_mean'][i]:.1f} ± {results['mpi_percent_ci'][i]:.1f}\",\n",
    "            )\n",
    "        )\n",
    "\n",
    "    plot_mpi_performance(results)\n",
    "\n",
    "\n",
    "def plot_mpi_performance(results):\n",
    "    plt.figure(figsize=(14, 8))\n",
    "\n",
    "    x = np.arange(len(results[\"prefix\"]))\n",
    "\n",
    "    bars = plt.bar(\n",
    "        x,\n",
    "        results[\"mpi_percent_mean\"],\n",
    "        yerr=results[\"mpi_percent_ci\"],\n",
    "        color=\"skyblue\",\n",
    "        alpha=0.7,\n",
    "        capsize=5,\n",
    "    )\n",
    "\n",
    "    plt.xlabel(\"Граф\", fontsize=12)\n",
    "    plt.ylabel(\"Средний процент времени передачи сообщений (%)\", fontsize=12)\n",
    "    plt.title(\n",
    "        \"Процент времени, потраченного на обмен сообщениями в Pregel+\", fontsize=14\n",
    "    )\n",
    "    plt.xticks(x, results[\"prefix\"], rotation=45, ha=\"right\")\n",
    "\n",
    "    for bar in bars:\n",
    "        height = bar.get_height()\n",
    "        plt.text(\n",
    "            bar.get_x() + bar.get_width() / 2.0,\n",
    "            height,\n",
    "            f\"{height:.1f}%\",\n",
    "            ha=\"center\",\n",
    "            va=\"bottom\",\n",
    "            fontsize=10,\n",
    "        )\n",
    "\n",
    "    plt.grid(True, axis=\"y\", linestyle=\"--\", alpha=0.7)\n",
    "    plt.tight_layout()\n",
    "    plt.show()\n",
    "\n",
    "\n",
    "analyze_mpi_performance(pregel_results_abs_path, confidence=0.95)"
   ]
  }
 ],
 "metadata": {
  "kernelspec": {
   "display_name": ".venv",
   "language": "python",
   "name": "python3"
  },
  "language_info": {
   "codemirror_mode": {
    "name": "ipython",
    "version": 3
   },
   "file_extension": ".py",
   "mimetype": "text/x-python",
   "name": "python",
   "nbconvert_exporter": "python",
   "pygments_lexer": "ipython3",
   "version": "3.12.10"
  }
 },
 "nbformat": 4,
 "nbformat_minor": 5
}
